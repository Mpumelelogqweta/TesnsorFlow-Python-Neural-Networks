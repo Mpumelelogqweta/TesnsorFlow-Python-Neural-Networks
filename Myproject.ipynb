{
  "nbformat": 4,
  "nbformat_minor": 0,
  "metadata": {
    "colab": {
      "name": "Myproject.ipynb",
      "provenance": [],
      "collapsed_sections": [],
      "authorship_tag": "ABX9TyPkVVIB/Iq1rMQHm1a8icms",
      "include_colab_link": true
    },
    "kernelspec": {
      "name": "python3",
      "display_name": "Python 3"
    },
    "language_info": {
      "name": "python"
    }
  },
  "cells": [
    {
      "cell_type": "markdown",
      "metadata": {
        "id": "view-in-github",
        "colab_type": "text"
      },
      "source": [
        "<a href=\"https://colab.research.google.com/github/Mpumelelogqweta/TesnsorFlow-Python-Neural-Networks/blob/main/Myproject.ipynb\" target=\"_parent\"><img src=\"https://colab.research.google.com/assets/colab-badge.svg\" alt=\"Open In Colab\"/></a>"
      ]
    },
    {
      "cell_type": "code",
      "metadata": {
        "colab": {
          "base_uri": "https://localhost:8080/"
        },
        "id": "7bDbR2cBz3Iv",
        "outputId": "51947dfe-0287-4203-8ea8-5f5dc34edcea"
      },
      "source": [
        "%tensorflow_version 2.x\n",
        "import tensorflow as tf\n",
        "print(tf.version)"
      ],
      "execution_count": null,
      "outputs": [
        {
          "output_type": "stream",
          "text": [
            "<module 'tensorflow._api.v2.version' from '/usr/local/lib/python3.7/dist-packages/tensorflow/_api/v2/version/__init__.py'>\n"
          ],
          "name": "stdout"
        }
      ]
    },
    {
      "cell_type": "markdown",
      "metadata": {
        "id": "RF2cWsJH9nsD"
      },
      "source": [
        "# CREATING TENSORS\n",
        "\n",
        "\n",
        "\n",
        "---\n",
        "\n"
      ]
    },
    {
      "cell_type": "code",
      "metadata": {
        "id": "0Xj2K6iB0BtL"
      },
      "source": [
        "string = tf.Variable(\"This is a string\", tf.string)\n",
        "number = tf.Variable(32, tf.int16)\n",
        "floating = tf.Variable(3.567, tf.float64)"
      ],
      "execution_count": null,
      "outputs": []
    },
    {
      "cell_type": "markdown",
      "metadata": {
        "id": "1n-7wabk7ayD"
      },
      "source": [
        "# RANK/DEGREE OF TENSORS \n",
        "\n",
        "\n",
        "\n",
        "---\n",
        "\n",
        "\n",
        "\n",
        "```\n",
        "#These terms simply mean the number of dimensions involved in the tensor.\n",
        "\n",
        "\n",
        "---\n",
        "\n",
        "\n",
        "```\n",
        "\n"
      ]
    },
    {
      "cell_type": "code",
      "metadata": {
        "id": "wyNocb-w9xyw"
      },
      "source": [
        "rank1_tensor = tf.Variable([\"Test\", \"run\", \"code\"], tf.string)\n",
        "rank2_tensor = tf.Variable([[\"Test\", \"Ok\"],[\"Test\", \"Yes\"]], tf.string)"
      ],
      "execution_count": null,
      "outputs": []
    },
    {
      "cell_type": "markdown",
      "metadata": {
        "id": "KKxNSeV1_diH"
      },
      "source": [
        "**To determine the rank of a tensor we can call the following method.**"
      ]
    },
    {
      "cell_type": "code",
      "metadata": {
        "colab": {
          "base_uri": "https://localhost:8080/"
        },
        "id": "LDHhNcIi_ujT",
        "outputId": "21abe141-e32f-430e-fb34-4e470c50f917"
      },
      "source": [
        "\n",
        "tf.rank(rank2_tensor)"
      ],
      "execution_count": null,
      "outputs": [
        {
          "output_type": "execute_result",
          "data": {
            "text/plain": [
              "<tf.Tensor: shape=(), dtype=int32, numpy=2>"
            ]
          },
          "metadata": {
            "tags": []
          },
          "execution_count": 52
        }
      ]
    },
    {
      "cell_type": "markdown",
      "metadata": {
        "id": "-fX_nd-t_K6Q"
      },
      "source": [
        "# SHAPE OF TENSORS\n",
        "\n",
        "\n",
        "\n",
        "---\n",
        "\n",
        "\n",
        "```\n",
        "To get the shape of a tensor we use the shape attribute.\n",
        "\n",
        "\n",
        "---\n",
        "\n",
        "\n",
        "```\n",
        "\n",
        "\n",
        "\n",
        "\n",
        "\n"
      ]
    },
    {
      "cell_type": "code",
      "metadata": {
        "colab": {
          "base_uri": "https://localhost:8080/"
        },
        "id": "pIevm_y_A33J",
        "outputId": "4a90a163-7ef9-4598-f1d3-58e7572d8924"
      },
      "source": [
        "rank1_tensor.shape"
      ],
      "execution_count": null,
      "outputs": [
        {
          "output_type": "execute_result",
          "data": {
            "text/plain": [
              "TensorShape([3])"
            ]
          },
          "metadata": {
            "tags": []
          },
          "execution_count": 53
        }
      ]
    },
    {
      "cell_type": "markdown",
      "metadata": {
        "id": "p6G1e1o2D-CM"
      },
      "source": [
        "# CHANGING SHAPE\n",
        "\n",
        "---\n",
        "\n",
        "\n",
        "\n",
        "```\n",
        "The number of elements of a tensor is the product  of the sizes of all its shapes.\n",
        "There are often many shapes that have the same same number of elements, \n",
        "making it convinient to be able change the shape of a tensor. \n",
        "\n",
        "---\n",
        "\n",
        "\n",
        "```\n",
        "\n"
      ]
    },
    {
      "cell_type": "code",
      "metadata": {
        "id": "ymAMfn7dE4Po"
      },
      "source": [
        "tensor1 = tf.ones([1,2,3])         #tf.ones() creates a shape [1,2,3] tensor full of ones\n",
        "tensor2 = tf.reshape(tensor1, [2,3,1])  #reshape existing data to shape [2,3,1]\n",
        "tensor3 = tf.reshape(tensor2, [3,-1])   #-1 tells the tensor to calculate the size of the dimension in that place \n",
        "                                        #this will reshape the tensor to [3,2]\n",
        "                                      \n",
        "#The number of elements in the reshaped tensor Must match the number in the original"
      ],
      "execution_count": null,
      "outputs": []
    },
    {
      "cell_type": "code",
      "metadata": {
        "colab": {
          "base_uri": "https://localhost:8080/"
        },
        "id": "T5HXyO_DGt2c",
        "outputId": "a0b766ad-674a-45ed-9337-81437e75fbe8"
      },
      "source": [
        "print(tensor1)\n",
        "print(tensor2)\n",
        "print(tensor3)"
      ],
      "execution_count": null,
      "outputs": [
        {
          "output_type": "stream",
          "text": [
            "tf.Tensor(\n",
            "[[[1. 1. 1.]\n",
            "  [1. 1. 1.]]], shape=(1, 2, 3), dtype=float32)\n",
            "tf.Tensor(\n",
            "[[[1.]\n",
            "  [1.]\n",
            "  [1.]]\n",
            "\n",
            " [[1.]\n",
            "  [1.]\n",
            "  [1.]]], shape=(2, 3, 1), dtype=float32)\n",
            "tf.Tensor(\n",
            "[[1. 1.]\n",
            " [1. 1.]\n",
            " [1. 1.]], shape=(3, 2), dtype=float32)\n"
          ],
          "name": "stdout"
        }
      ]
    },
    {
      "cell_type": "markdown",
      "metadata": {
        "id": "3Q-OXe-SN0K_"
      },
      "source": [
        " Types of Tensor\n",
        " \n",
        " ---\n",
        "\n",
        "\n",
        "\n",
        "\n"
      ]
    },
    {
      "cell_type": "markdown",
      "metadata": {
        "id": "BNlK4T_XOAs9"
      },
      "source": [
        "\n",
        "\n",
        "```\n",
        "*   Variable \n",
        "*   Constant\n",
        "*   Placeholder\n",
        "*   SparseTensor\n",
        "\n",
        "Note: With the exception of Variable all of these tensors are immutable, meaning their value may not change during execution\n",
        "\n",
        "---\n",
        "\n",
        "\n",
        "```\n",
        "\n"
      ]
    },
    {
      "cell_type": "markdown",
      "metadata": {
        "id": "jTQJbOiFPVLe"
      },
      "source": [
        "# EVALUATING TENSORS\n",
        "\n",
        "---\n",
        "\n"
      ]
    },
    {
      "cell_type": "code",
      "metadata": {
        "id": "nbjxDzP2Qykz"
      },
      "source": [
        "with tf.Session() as sess: #creates  a session using the default graph\n",
        "  tensor.eval()       # tensor will of course be the name of your tensor"
      ],
      "execution_count": null,
      "outputs": []
    }
  ]
}